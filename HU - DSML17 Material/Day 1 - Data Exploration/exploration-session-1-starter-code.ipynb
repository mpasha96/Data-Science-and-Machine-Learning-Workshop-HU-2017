{
 "cells": [
  {
   "cell_type": "markdown",
   "metadata": {},
   "source": [
    "# Lesson Plan\n",
    "In this session, we will be working with the Udacity student data to master key concepts in the data exploration phase:\n",
    "    - Data Ingestion\n",
    "    - Data Cleaning\n",
    "    - Sanity Checking\n",
    "    - Describing the Data\n",
    "    - Slicing Data\n",
    "    - Grouping Data\n",
    "    - Crunching and Validating Numbers\n",
    "    - Plotting"
   ]
  },
  {
   "cell_type": "markdown",
   "metadata": {},
   "source": [
    "# Part 1: Data Ingestion and Wrangling"
   ]
  },
  {
   "cell_type": "markdown",
   "metadata": {},
   "source": [
    "# Ingesting CSVs"
   ]
  },
  {
   "cell_type": "markdown",
   "metadata": {},
   "source": [
    "### Ingesting CSVs using your own code\n",
    "First think about what data structure to read in. Here, I am going to read in a list of dictionaries, with each record being a dictionary."
   ]
  },
  {
   "cell_type": "code",
   "execution_count": 53,
   "metadata": {},
   "outputs": [
    {
     "name": "stdout",
     "output_type": "stream",
     "text": [
      "{'is_canceled': 'is_canceled', 'account_key': 'account_key', 'is_udacity': 'is_udacity', 'join_date': 'join_date', 'status': 'status', 'days_to_cancel': 'days_to_cancel', 'cancel_date': 'cancel_date'}\n"
     ]
    }
   ],
   "source": [
    "keys = [\"account_key\",\n",
    "        \"status\",\n",
    "        \"join_date\",\n",
    "        \"cancel_date\",\n",
    "        \"days_to_cancel\",\n",
    "        \"is_udacity\",\n",
    "        \"is_canceled\"]\n",
    "\n",
    "def read_csv(filename):\n",
    "    data = list()\n",
    "    with open(filename) as f:\n",
    "        for line in f:\n",
    "            parts = line.strip().split(\",\")\n",
    "            data.append(dict(zip(keys, parts)))\n",
    "    return data\n",
    "\n",
    "enrollments = read_csv(\"enrollments.csv\")\n",
    "print(enrollments[0])\n",
    "\n",
    "daily_engagement = read_csv(\"daily_engagement.csv\")\n",
    "project_submissions = read_csv(\"project_submissions.csv\")\n"
   ]
  },
  {
   "cell_type": "markdown",
   "metadata": {
    "collapsed": true
   },
   "source": [
    "* Observation: But what if we don't know the header fields? What if the header fields change? We should avoid hard-coding as much as possible. \n",
    "* <b> Better version </b>: The following piece of code uses the csv library which provides a function that interprets the first row as the header, and populates the list of dictionaries accordingly.\n"
   ]
  },
  {
   "cell_type": "markdown",
   "metadata": {},
   "source": [
    "### Ingesting CSVs using the csv library"
   ]
  },
  {
   "cell_type": "code",
   "execution_count": 4,
   "metadata": {},
   "outputs": [
    {
     "name": "stdout",
     "output_type": "stream",
     "text": [
      "{'is_canceled': 'True', 'is_udacity': 'True', 'cancel_date': '2015-01-14', 'account_key': '448', 'join_date': '2014-11-10', 'status': 'canceled', 'days_to_cancel': '65'}\n"
     ]
    }
   ],
   "source": [
    "import csv\n",
    "\n",
    "def read_csv(filename):\n",
    "    with open(filename) as csvfile:\n",
    "        data = csv.DictReader(csvfile)\n",
    "        return list(data)\n",
    "            \n",
    "enrollments = read_csv(\"enrollments.csv\")\n",
    "daily_engagement = read_csv(\"daily_engagement.csv\")\n",
    "project_submissions = read_csv(\"project_submissions.csv\")\n",
    "print(enrollments[0])"
   ]
  },
  {
   "cell_type": "markdown",
   "metadata": {},
   "source": [
    "### Ingesting CSVs using the Pandas library\n",
    "We will learn about Pandas and the data-types it offers later. But for now let us see how ingestion looks, and how Pandas significantly makes code cleaner and the output much more readable. It also makes ingestion faster!\n"
   ]
  },
  {
   "cell_type": "code",
   "execution_count": 1,
   "metadata": {
    "scrolled": true
   },
   "outputs": [
    {
     "data": {
      "text/html": [
       "<div>\n",
       "<table border=\"1\" class=\"dataframe\">\n",
       "  <thead>\n",
       "    <tr style=\"text-align: right;\">\n",
       "      <th></th>\n",
       "      <th>account_key</th>\n",
       "      <th>status</th>\n",
       "      <th>join_date</th>\n",
       "      <th>cancel_date</th>\n",
       "      <th>days_to_cancel</th>\n",
       "      <th>is_udacity</th>\n",
       "      <th>is_canceled</th>\n",
       "    </tr>\n",
       "  </thead>\n",
       "  <tbody>\n",
       "    <tr>\n",
       "      <th>0</th>\n",
       "      <td>448</td>\n",
       "      <td>canceled</td>\n",
       "      <td>2014-11-10</td>\n",
       "      <td>2015-01-14</td>\n",
       "      <td>65.0</td>\n",
       "      <td>True</td>\n",
       "      <td>True</td>\n",
       "    </tr>\n",
       "    <tr>\n",
       "      <th>1</th>\n",
       "      <td>448</td>\n",
       "      <td>canceled</td>\n",
       "      <td>2014-11-05</td>\n",
       "      <td>2014-11-10</td>\n",
       "      <td>5.0</td>\n",
       "      <td>True</td>\n",
       "      <td>True</td>\n",
       "    </tr>\n",
       "    <tr>\n",
       "      <th>2</th>\n",
       "      <td>448</td>\n",
       "      <td>canceled</td>\n",
       "      <td>2015-01-27</td>\n",
       "      <td>2015-01-27</td>\n",
       "      <td>0.0</td>\n",
       "      <td>True</td>\n",
       "      <td>True</td>\n",
       "    </tr>\n",
       "    <tr>\n",
       "      <th>3</th>\n",
       "      <td>448</td>\n",
       "      <td>canceled</td>\n",
       "      <td>2014-11-10</td>\n",
       "      <td>2014-11-10</td>\n",
       "      <td>0.0</td>\n",
       "      <td>True</td>\n",
       "      <td>True</td>\n",
       "    </tr>\n",
       "    <tr>\n",
       "      <th>4</th>\n",
       "      <td>448</td>\n",
       "      <td>current</td>\n",
       "      <td>2015-03-10</td>\n",
       "      <td>NaN</td>\n",
       "      <td>NaN</td>\n",
       "      <td>True</td>\n",
       "      <td>False</td>\n",
       "    </tr>\n",
       "  </tbody>\n",
       "</table>\n",
       "</div>"
      ],
      "text/plain": [
       "   account_key    status   join_date cancel_date  days_to_cancel is_udacity  \\\n",
       "0          448  canceled  2014-11-10  2015-01-14            65.0       True   \n",
       "1          448  canceled  2014-11-05  2014-11-10             5.0       True   \n",
       "2          448  canceled  2015-01-27  2015-01-27             0.0       True   \n",
       "3          448  canceled  2014-11-10  2014-11-10             0.0       True   \n",
       "4          448   current  2015-03-10         NaN             NaN       True   \n",
       "\n",
       "  is_canceled  \n",
       "0        True  \n",
       "1        True  \n",
       "2        True  \n",
       "3        True  \n",
       "4       False  "
      ]
     },
     "execution_count": 1,
     "metadata": {},
     "output_type": "execute_result"
    }
   ],
   "source": [
    "import pandas as pd\n",
    "\n",
    "enrollments_pd = pd.read_csv(\"enrollments.csv\")\n",
    "daily_engagement_pd = pd.read_csv(\"daily_engagement.csv\")\n",
    "project_submissions_pd = pd.read_csv(\"project_submissions.csv\")\n",
    "enrollments_pd.head()"
   ]
  },
  {
   "cell_type": "code",
   "execution_count": 29,
   "metadata": {},
   "outputs": [
    {
     "data": {
      "text/html": [
       "<div>\n",
       "<table border=\"1\" class=\"dataframe\">\n",
       "  <thead>\n",
       "    <tr style=\"text-align: right;\">\n",
       "      <th></th>\n",
       "      <th>creation_date</th>\n",
       "      <th>completion_date</th>\n",
       "      <th>assigned_rating</th>\n",
       "      <th>account_key</th>\n",
       "      <th>lesson_key</th>\n",
       "      <th>processing_state</th>\n",
       "    </tr>\n",
       "  </thead>\n",
       "  <tbody>\n",
       "    <tr>\n",
       "      <th>0</th>\n",
       "      <td>2015-01-14</td>\n",
       "      <td>2015-01-16</td>\n",
       "      <td>UNGRADED</td>\n",
       "      <td>256</td>\n",
       "      <td>3176718735</td>\n",
       "      <td>EVALUATED</td>\n",
       "    </tr>\n",
       "    <tr>\n",
       "      <th>1</th>\n",
       "      <td>2015-01-10</td>\n",
       "      <td>2015-01-13</td>\n",
       "      <td>INCOMPLETE</td>\n",
       "      <td>256</td>\n",
       "      <td>3176718735</td>\n",
       "      <td>EVALUATED</td>\n",
       "    </tr>\n",
       "    <tr>\n",
       "      <th>2</th>\n",
       "      <td>2015-01-20</td>\n",
       "      <td>2015-01-20</td>\n",
       "      <td>PASSED</td>\n",
       "      <td>256</td>\n",
       "      <td>3176718735</td>\n",
       "      <td>EVALUATED</td>\n",
       "    </tr>\n",
       "    <tr>\n",
       "      <th>3</th>\n",
       "      <td>2015-03-10</td>\n",
       "      <td>2015-03-13</td>\n",
       "      <td>PASSED</td>\n",
       "      <td>434</td>\n",
       "      <td>3176718735</td>\n",
       "      <td>EVALUATED</td>\n",
       "    </tr>\n",
       "    <tr>\n",
       "      <th>4</th>\n",
       "      <td>2015-02-17</td>\n",
       "      <td>2015-03-03</td>\n",
       "      <td>INCOMPLETE</td>\n",
       "      <td>434</td>\n",
       "      <td>3176718735</td>\n",
       "      <td>EVALUATED</td>\n",
       "    </tr>\n",
       "  </tbody>\n",
       "</table>\n",
       "</div>"
      ],
      "text/plain": [
       "  creation_date completion_date assigned_rating  account_key  lesson_key  \\\n",
       "0    2015-01-14      2015-01-16        UNGRADED          256  3176718735   \n",
       "1    2015-01-10      2015-01-13      INCOMPLETE          256  3176718735   \n",
       "2    2015-01-20      2015-01-20          PASSED          256  3176718735   \n",
       "3    2015-03-10      2015-03-13          PASSED          434  3176718735   \n",
       "4    2015-02-17      2015-03-03      INCOMPLETE          434  3176718735   \n",
       "\n",
       "  processing_state  \n",
       "0        EVALUATED  \n",
       "1        EVALUATED  \n",
       "2        EVALUATED  \n",
       "3        EVALUATED  \n",
       "4        EVALUATED  "
      ]
     },
     "execution_count": 29,
     "metadata": {},
     "output_type": "execute_result"
    }
   ],
   "source": [
    "project_submissions_pd.head()"
   ]
  },
  {
   "cell_type": "code",
   "execution_count": 30,
   "metadata": {},
   "outputs": [
    {
     "data": {
      "text/html": [
       "<div>\n",
       "<table border=\"1\" class=\"dataframe\">\n",
       "  <thead>\n",
       "    <tr style=\"text-align: right;\">\n",
       "      <th></th>\n",
       "      <th>acct</th>\n",
       "      <th>utc_date</th>\n",
       "      <th>num_courses_visited</th>\n",
       "      <th>total_minutes_visited</th>\n",
       "      <th>lessons_completed</th>\n",
       "      <th>projects_completed</th>\n",
       "    </tr>\n",
       "  </thead>\n",
       "  <tbody>\n",
       "    <tr>\n",
       "      <th>0</th>\n",
       "      <td>0</td>\n",
       "      <td>2015-01-09</td>\n",
       "      <td>1.0</td>\n",
       "      <td>11.679374</td>\n",
       "      <td>0.0</td>\n",
       "      <td>0.0</td>\n",
       "    </tr>\n",
       "    <tr>\n",
       "      <th>1</th>\n",
       "      <td>0</td>\n",
       "      <td>2015-01-10</td>\n",
       "      <td>2.0</td>\n",
       "      <td>37.284887</td>\n",
       "      <td>0.0</td>\n",
       "      <td>0.0</td>\n",
       "    </tr>\n",
       "    <tr>\n",
       "      <th>2</th>\n",
       "      <td>0</td>\n",
       "      <td>2015-01-11</td>\n",
       "      <td>2.0</td>\n",
       "      <td>53.633746</td>\n",
       "      <td>0.0</td>\n",
       "      <td>0.0</td>\n",
       "    </tr>\n",
       "    <tr>\n",
       "      <th>3</th>\n",
       "      <td>0</td>\n",
       "      <td>2015-01-12</td>\n",
       "      <td>1.0</td>\n",
       "      <td>33.489270</td>\n",
       "      <td>0.0</td>\n",
       "      <td>0.0</td>\n",
       "    </tr>\n",
       "    <tr>\n",
       "      <th>4</th>\n",
       "      <td>0</td>\n",
       "      <td>2015-01-13</td>\n",
       "      <td>1.0</td>\n",
       "      <td>64.779678</td>\n",
       "      <td>0.0</td>\n",
       "      <td>0.0</td>\n",
       "    </tr>\n",
       "  </tbody>\n",
       "</table>\n",
       "</div>"
      ],
      "text/plain": [
       "   acct    utc_date  num_courses_visited  total_minutes_visited  \\\n",
       "0     0  2015-01-09                  1.0              11.679374   \n",
       "1     0  2015-01-10                  2.0              37.284887   \n",
       "2     0  2015-01-11                  2.0              53.633746   \n",
       "3     0  2015-01-12                  1.0              33.489270   \n",
       "4     0  2015-01-13                  1.0              64.779678   \n",
       "\n",
       "   lessons_completed  projects_completed  \n",
       "0                0.0                 0.0  \n",
       "1                0.0                 0.0  \n",
       "2                0.0                 0.0  \n",
       "3                0.0                 0.0  \n",
       "4                0.0                 0.0  "
      ]
     },
     "execution_count": 30,
     "metadata": {},
     "output_type": "execute_result"
    }
   ],
   "source": [
    "daily_engagement_pd.head()"
   ]
  },
  {
   "cell_type": "code",
   "execution_count": null,
   "metadata": {
    "collapsed": true
   },
   "outputs": [],
   "source": []
  },
  {
   "cell_type": "markdown",
   "metadata": {},
   "source": [
    "\n",
    "# Is my data ready to work with?\n",
    "Let us look at the data types:"
   ]
  },
  {
   "cell_type": "code",
   "execution_count": 31,
   "metadata": {},
   "outputs": [
    {
     "name": "stdout",
     "output_type": "stream",
     "text": [
      "The data types for enrollments are:\n",
      "is_canceled \t <class 'str'>\n",
      "account_key \t <class 'str'>\n",
      "is_udacity \t <class 'str'>\n",
      "join_date \t <class 'str'>\n",
      "status \t <class 'str'>\n",
      "days_to_cancel \t <class 'str'>\n",
      "cancel_date \t <class 'str'>\n"
     ]
    }
   ],
   "source": [
    "print(\"The data types for enrollments are:\")\n",
    "for key, val in enrollments[0].items():\n",
    "    print(key, \"\\t\", type(val))    "
   ]
  },
  {
   "cell_type": "markdown",
   "metadata": {},
   "source": [
    "Looks like everything just got read as a string. We have some conversion work to do! Specifically, we need to convert: (i) string to int, (ii) string to bool, (iii) string to datetime, and (iv) string to float.\n"
   ]
  },
  {
   "cell_type": "code",
   "execution_count": 5,
   "metadata": {
    "collapsed": true
   },
   "outputs": [],
   "source": [
    "from datetime import datetime as dt\n",
    "\n",
    "def convert_str_to_bool(string):\n",
    "    if string == \"True\":\n",
    "        return True\n",
    "    elif string == \"False\":\n",
    "        return False\n",
    "    else:\n",
    "        return None\n",
    "    \n",
    "def convert_str_to_int(string):\n",
    "    if string == \"\":\n",
    "        return None\n",
    "    else:\n",
    "        return int(string)\n",
    "    \n",
    "def parse_date(date_str):\n",
    "    if date_str == \"\":\n",
    "        return None\n",
    "    return dt.strptime(date_str, \"%Y-%m-%d\")\n",
    "    \n",
    "def convert_str_to_float(string):\n",
    "    if string == \"\":\n",
    "        return None\n",
    "    else:\n",
    "        return float(string)\n",
    "    \n",
    "    \n",
    "def clean_enrollment_data_types(enrollment_data):\n",
    "    for data in enrollment_data:\n",
    "        data[\"is_canceled\"] = convert_str_to_bool(data[\"is_canceled\"])\n",
    "        data[\"is_udacity\"] = convert_str_to_bool(data[\"is_udacity\"])\n",
    "        data[\"join_date\"] = parse_date(data[\"join_date\"])\n",
    "        data[\"cancel_date\"] = parse_date(data[\"cancel_date\"])\n",
    "        data[\"days_to_cancel\"] = convert_str_to_int(data[\"days_to_cancel\"])\n",
    "\n",
    "def clean_project_submissions_data_types(project_submissions_data):\n",
    "    for data in project_submissions_data:\n",
    "        data[\"creation_date\"] = parse_date(data[\"creation_date\"])\n",
    "        data[\"completion_date\"] = parse_date(data[\"completion_date\"])\n",
    "\n",
    "def clean_daily_engagement_data_types(daily_engagements_data):\n",
    "    for data in daily_engagements_data:\n",
    "        data[\"utc_date\"] = parse_date(data[\"utc_date\"]) \n",
    "        data[\"num_courses_visited\"] = convert_str_to_float(data[\"num_courses_visited\"])\n",
    "        data[\"total_minutes_visited\"] = convert_str_to_float(data[\"total_minutes_visited\"])\n",
    "        data[\"lessons_completed\"] = convert_str_to_float(data[\"lessons_completed\"])\n",
    "        data[\"projects_completed\"] = convert_str_to_float(data[\"projects_completed\"])\n",
    "        \n",
    "clean_enrollment_data_types(enrollments)\n",
    "clean_project_submissions_data_types(project_submissions)\n",
    "clean_daily_engagement_data_types(daily_engagement)\n"
   ]
  },
  {
   "cell_type": "markdown",
   "metadata": {},
   "source": [
    "Let's check types again:"
   ]
  },
  {
   "cell_type": "code",
   "execution_count": 6,
   "metadata": {},
   "outputs": [
    {
     "name": "stdout",
     "output_type": "stream",
     "text": [
      "The data types for enrollments are:\n",
      "is_canceled \t <class 'bool'>\n",
      "is_udacity \t <class 'bool'>\n",
      "cancel_date \t <class 'datetime.datetime'>\n",
      "account_key \t <class 'str'>\n",
      "join_date \t <class 'datetime.datetime'>\n",
      "status \t <class 'str'>\n",
      "days_to_cancel \t <class 'int'>\n"
     ]
    }
   ],
   "source": [
    "print(\"The data types for enrollments are:\")\n",
    "for key, val in enrollments[0].items():\n",
    "    print(key, \"\\t\", type(val))    "
   ]
  },
  {
   "cell_type": "markdown",
   "metadata": {},
   "source": [
    "# Brainstorm: What can we explore?\n",
    "- Now that the data is in a format we can work with, how should we start our exploration?\n",
    "- As a data analyst you must develop a sense about what you can extract from the data.\n",
    "- Some things that I was interested in when I looked at this dataset: \n",
    "* How does student daily engagement related to grades in projects? Is it that the higher the amount of time you spend, the better grades you get?\n",
    "* How does the number of courses you are enrolled in affect your performance?\n",
    "* Can we study cancellation trends, what causes students to cancel?"
   ]
  },
  {
   "cell_type": "markdown",
   "metadata": {},
   "source": [
    "\n",
    "# Exercise 1: Data basics and inconsistencies (10 mins)\n",
    "\n",
    "But before we get into the data, lets understand the data and if there are any inconsistencies. Is our data complete? How big is it? Is it sufficient to study these questions? \n",
    "* For each of the three files you have loaded, find the total number of rows in the csv and the number of unique students. To find the number of unique students in each table, you might want to try creating a set of the account keys. Also, try writing a function so that you do not repeat code for each table.\n",
    "\n",
    "* Did you come across any issues while trying to write this function?\n",
    "* Do you have any observations about these numbers?\n",
    "\n",
    "####  Bonus Question: Over how much time was this data collected?"
   ]
  },
  {
   "cell_type": "code",
   "execution_count": 8,
   "metadata": {
    "collapsed": true
   },
   "outputs": [],
   "source": [
    "# Your code goes here"
   ]
  },
  {
   "cell_type": "markdown",
   "metadata": {},
   "source": [
    "# Exercise 2 (Optional): Bounds checks\n",
    "* Familiarize yourself with the possible values for each field, write checks to make sure the values fall in the expected format/set. For example, does the date field always make sense? What are the possible values of the field <b>\"assigned rating\"</b> in the project_submissions table?"
   ]
  },
  {
   "cell_type": "code",
   "execution_count": null,
   "metadata": {
    "collapsed": true
   },
   "outputs": [],
   "source": [
    "# Your code goes here"
   ]
  },
  {
   "cell_type": "markdown",
   "metadata": {},
   "source": [
    "### Fix 1: Fix inconsistencies (if any)"
   ]
  },
  {
   "cell_type": "code",
   "execution_count": 2,
   "metadata": {
    "collapsed": true
   },
   "outputs": [],
   "source": [
    "# Paste and run code that I will provide here"
   ]
  },
  {
   "cell_type": "markdown",
   "metadata": {},
   "source": [
    "### Fix 2: Filter Data"
   ]
  },
  {
   "cell_type": "code",
   "execution_count": null,
   "metadata": {
    "collapsed": true
   },
   "outputs": [],
   "source": [
    "# Paste and run code that I will provide here"
   ]
  },
  {
   "cell_type": "markdown",
   "metadata": {},
   "source": [
    "Note: Everytime you filter data, you should understand filtering ratios. In this case, we only filtered a handful of accounts, and looks like most of the records were retained. Can you think of a reason in this case why it is possible that we might have filtered out a lot of data?"
   ]
  },
  {
   "cell_type": "markdown",
   "metadata": {},
   "source": [
    "# Part 2: Data Analysis\n",
    "\n",
    "\n",
    "### Goal: How does daily engagement differ for students who pass the first project vs. for those who do not?\n",
    "\n",
    "Some questions to think about:\n",
    "- Daily engagement over how much time? All time up until the project submission? Or for a fixed period of time?\n",
    "- We already know that some students cancel after enrolling. How is cancellation going to affect our numbers?\n",
    "\n",
    "Let us refine the question to: how does daily engagement **in the first week** (after enrollment) differ for students who pass their first project? Further let us limit to students that remain enrolled for at least seven days.\n",
    "\n",
    "# Exercise 1: Slicing, Grouping, and Crunching Data (30 mins)\n",
    "### Tasks:\n",
    "- Create a dictionary containing only paid students that remain enrolled for at least a week --- the dictionary should map account keys to enrollment date.\n",
    "- *Slice data:* For these students, extract engagement records that are **within** one week after their enrollment date (I have provided a helper function for doing the within-one-week check)\n",
    "- *Group data:* Compute the following metrics per student: total number of minutes spent, total number of lessons completed, and (optional) total number of days student visited the classroom\n",
    "- Write a function describe_data, that prints the mean, standard deviation, max, and min for the above metrics\n",
    "\n",
    "#### Check whether you are on the right track:\n",
    "- Task 1: The number of keys in this dictionary should be 995. Thing to check for: Is there only one enrollment record per student in the data? If you find there are multiple, how will you deal with it?\n",
    "- Task 2: The number of records you should get is: 21,508\n",
    "- Task 3: Brainstorm ways in which you can check whether your crunching is correct. "
   ]
  },
  {
   "cell_type": "code",
   "execution_count": 11,
   "metadata": {
    "collapsed": true
   },
   "outputs": [],
   "source": [
    "# Your code goes here\n",
    "\n",
    "# Helper function to check for data within one week\n",
    "def within_one_week(record_date, enrollment_date):\n",
    "    time_delta = record_date - enrollment_date\n",
    "    return time_delta.days < 7\n"
   ]
  },
  {
   "cell_type": "markdown",
   "metadata": {},
   "source": [
    "# Validation: Do my numbers make sense?"
   ]
  },
  {
   "cell_type": "markdown",
   "metadata": {},
   "source": [
    "How do I validate that my crunching is correct, and something did not get messed up along the way? "
   ]
  },
  {
   "cell_type": "markdown",
   "metadata": {},
   "source": [
    "Write your thoughts in this markdown cell. Use task 3 above as a thinking tool."
   ]
  },
  {
   "cell_type": "code",
   "execution_count": 10,
   "metadata": {
    "collapsed": true
   },
   "outputs": [],
   "source": [
    "# Your check goes here"
   ]
  },
  {
   "cell_type": "markdown",
   "metadata": {},
   "source": [
    "\n",
    "# Exercise 2: Splitting passing/non-passing students (15 mins)\n",
    "- Write code to split passing and non-passing students for the first project. The first project refers to the following two lesson keys: ['746169184', '3176718735']. Be careful about how you check for \"passing\".\n",
    "- Use the code you wrote above to compare the two student groups.\n",
    "- Plot histograms for the metrics you computed. What do the plots tell? (You may want to revisit the plotting code in the python-tutorial).\n"
   ]
  }
 ],
 "metadata": {
  "kernelspec": {
   "display_name": "Python 3",
   "language": "python",
   "name": "python3"
  },
  "language_info": {
   "codemirror_mode": {
    "name": "ipython",
    "version": 3
   },
   "file_extension": ".py",
   "mimetype": "text/x-python",
   "name": "python",
   "nbconvert_exporter": "python",
   "pygments_lexer": "ipython3",
   "version": "3.5.1"
  }
 },
 "nbformat": 4,
 "nbformat_minor": 1
}
